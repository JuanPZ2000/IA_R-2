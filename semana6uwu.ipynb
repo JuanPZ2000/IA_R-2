{
  "nbformat": 4,
  "nbformat_minor": 0,
  "metadata": {
    "colab": {
      "name": "semana6uwu.ipynb",
      "provenance": [],
      "collapsed_sections": [],
      "include_colab_link": true
    },
    "kernelspec": {
      "name": "python3",
      "display_name": "Python 3"
    },
    "language_info": {
      "name": "python"
    }
  },
  "cells": [
    {
      "cell_type": "markdown",
      "metadata": {
        "id": "view-in-github",
        "colab_type": "text"
      },
      "source": [
        "<a href=\"https://colab.research.google.com/github/JuanPZ2000/IA_R-2/blob/main/semana6uwu.ipynb\" target=\"_parent\"><img src=\"https://colab.research.google.com/assets/colab-badge.svg\" alt=\"Open In Colab\"/></a>"
      ]
    },
    {
      "cell_type": "markdown",
      "metadata": {
        "id": "bZr-OaRwc9ny"
      },
      "source": [
        "# Taller. Descenso del gradiente"
      ]
    },
    {
      "cell_type": "code",
      "metadata": {
        "id": "LNWg2Ffo2YfB"
      },
      "source": [
        "import numpy as np\n",
        "import matplotlib.pyplot as plt\n",
        "import time"
      ],
      "execution_count": 1,
      "outputs": []
    },
    {
      "cell_type": "code",
      "metadata": {
        "id": "EK_OkluRdjp1"
      },
      "source": [
        "\"\"\"\n",
        "Definamos aquí nuestra hipótesis\n",
        "\"\"\"\n",
        "def hipotesis(theta0,theta1,x):\n",
        "  estimados = theta0 + theta1*x\n",
        "  return estimados"
      ],
      "execution_count": 2,
      "outputs": []
    },
    {
      "cell_type": "code",
      "metadata": {
        "id": "NCxSZbN2dMbZ"
      },
      "source": [
        "\"\"\"\n",
        "La presente función recibe dos arreglos tipo Numpy del mismo tamaño y\n",
        "retorna la mitad del Error Cuadrático Medio de los dos array\n",
        "\"\"\"\n",
        "def funcCosto(arr_1, arr_2):\n",
        "  J = np.power(arr_1-arr_2,2)\n",
        "  return np.sum(J)/(2*len(J))"
      ],
      "execution_count": 3,
      "outputs": []
    },
    {
      "cell_type": "code",
      "metadata": {
        "id": "IUR-d6aoeCBh"
      },
      "source": [
        "\"\"\"\n",
        "Definamos los gradientes\n",
        "\"\"\"\n",
        "def gradienteTheta0(theta0Actual,theta1Actual,x,y):\n",
        "  substra = hipotesis(theta0Actual,theta1Actual,x) - y\n",
        "  pasoTheta0 = (1/x.shape[0])*(np.sum(substra))\n",
        "  return pasoTheta0\n",
        "def gradienteTheta1(theta0Actual,theta1Actual,x,y):\n",
        "  pasoTheta1 = (1/x.shape[0])*np.sum((hipotesis(theta0Actual,theta1Actual,x)-y)*x)\n",
        "  return pasoTheta1"
      ],
      "execution_count": 4,
      "outputs": []
    },
    {
      "cell_type": "code",
      "metadata": {
        "id": "SL_-HEO1efTU"
      },
      "source": [
        "\"\"\"\n",
        "Un paso del gradiente\n",
        "\"\"\"\n",
        "def pasoDescensoGradiente(theta0Actual,theta1Actual,x,y,alpha):\n",
        "  nuevoTheta0 = theta0Actual - alpha*gradienteTheta0(theta0Actual,theta1Actual,x,y)\n",
        "  nuevoTheta1 = theta1Actual - alpha*gradienteTheta1(theta0Actual,theta1Actual,x,y)\n",
        "  return (nuevoTheta0,nuevoTheta1)"
      ],
      "execution_count": 5,
      "outputs": []
    },
    {
      "cell_type": "markdown",
      "metadata": {
        "id": "_QmZcl9wesYW"
      },
      "source": [
        "## Apliquemoslo a nuestro problema"
      ]
    },
    {
      "cell_type": "code",
      "metadata": {
        "id": "C7jNVhNVjJYv"
      },
      "source": [
        "## Datos\n",
        "x = np.array([1, 1.5, 2, 2.5, 3, 3.5, 4, 4.5, 5, 5.5, 6])\n",
        "y = np.array([0.169610271922408, 0.283395812542308, 0.386358737510785, 0.470227872390909, 0.433281293764675, 0.600267648212653, 0.738338980436742, 0.790315020494445, 0.877464268422459, 0.84356446225183, 0.96443891694455])\n",
        "\n",
        "theta0 = 0.2\n",
        "theta1 = 0.01\n"
      ],
      "execution_count": 6,
      "outputs": []
    },
    {
      "cell_type": "markdown",
      "metadata": {
        "id": "qJ6CPjuVupiv"
      },
      "source": [
        ""
      ]
    },
    {
      "cell_type": "code",
      "metadata": {
        "colab": {
          "base_uri": "https://localhost:8080/",
          "height": 281
        },
        "id": "RuWRa-3NjtA2",
        "outputId": "624f7d06-ef32-4099-df16-6ddbf61c3db2"
      },
      "source": [
        "plt.scatter(x,y)\n",
        "plt.plot(x,hipotesis(theta0,theta1,x),'r-')\n",
        "plt.title(\"Muestras e Hipótesis para (%.3f,%.3f)\"%(theta0,theta1))\n",
        "plt.show()"
      ],
      "execution_count": 7,
      "outputs": [
        {
          "output_type": "display_data",
          "data": {
            "image/png": "[encoded data removed]",
            "text/plain": [
              "<Figure size 432x288 with 1 Axes>"
            ]
          },
          "metadata": {
            "needs_background": "light"
          }
        }
      ]
    },
    {
      "cell_type": "code",
      "metadata": {
        "colab": {
          "base_uri": "https://localhost:8080/",
          "height": 299
        },
        "id": "msidmnaWkQxe",
        "outputId": "ce95f9a6-cd9a-4912-c96d-e617835ccaaf"
      },
      "source": [
        "## Iteraciones\n",
        "theta0 = 0.2\n",
        "theta1 = 0.01\n",
        "iter = 10000\n",
        "alpha = (0.05/10)/10*2*2*2*2*2*2\n",
        "J = list()\n",
        "J.append(funcCosto(hipotesis(theta0,theta1,x),y))\n",
        "for i in range(iter):\n",
        "  # Para cada iteración calcular los nuevos parámetros de la hipótesis\n",
        "  (theta0n,theta1n) = pasoDescensoGradiente(theta0,theta1,x,y,alpha)\n",
        "  #print(\"diferencia: \",theta0n-theta0)\n",
        "  J.append(funcCosto(hipotesis(theta0,theta1,x),y))\n",
        "  if (np.abs(theta0n-theta0))<1e-11: # Criterio de parada por variación de paŕametros\n",
        "    print(\"\",np.abs(theta0n-theta0))\n",
        "    break\n",
        "  theta0 = theta0n\n",
        "  theta1 = theta1n\n",
        "\n",
        "plt.scatter(x,y)\n",
        "plt.plot(x,hipotesis(theta0,theta1,x),'r-')\n",
        "plt.title(\"Muestras e Hipótesis (%.3f,%.3f)\"%(theta0,theta1))\n",
        "plt.show()\n"
      ],
      "execution_count": 8,
      "outputs": [
        {
          "output_type": "stream",
          "name": "stdout",
          "text": [
            " 9.955446189646722e-12\n"
          ]
        },
        {
          "output_type": "display_data",
          "data": {
            "image/png": "[encoded data removed]",
            "text/plain": [
              "<Figure size 432x288 with 1 Axes>"
            ]
          },
          "metadata": {
            "needs_background": "light"
          }
        }
      ]
    },
    {
      "cell_type": "code",
      "metadata": {
        "colab": {
          "base_uri": "https://localhost:8080/"
        },
        "id": "hICWQ1Yhq_X2",
        "outputId": "e9b6212f-185c-4f67-94c1-3084f752f478"
      },
      "source": [
        "\n",
        "def R2(f,y,x):\n",
        "  SSres = sum((y-f)**2)\n",
        "  yprom = 1/len(x) * sum(y)\n",
        "  SSot = sum((y-yprom)**2)\n",
        "  R2 = 1 - (SSres/SSot)\n",
        "  return R2\n",
        "f = theta0 + theta1*x\n",
        "print(R2(f,y,x))\n"
      ],
      "execution_count": 9,
      "outputs": [
        {
          "output_type": "stream",
          "name": "stdout",
          "text": [
            "0.9678913144832825\n"
          ]
        }
      ]
    }
  ]
}